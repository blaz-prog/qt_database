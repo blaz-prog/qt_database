{
 "cells": [
  {
   "cell_type": "code",
   "id": "initial_id",
   "metadata": {
    "collapsed": true,
    "ExecuteTime": {
     "end_time": "2024-11-03T09:22:05.701124Z",
     "start_time": "2024-11-03T09:22:05.694288Z"
    }
   },
   "source": [
    "import datetime\n",
    "datetime.date(2024, 3, 3)"
   ],
   "outputs": [
    {
     "data": {
      "text/plain": [
       "datetime.date(2024, 3, 3)"
      ]
     },
     "execution_count": 2,
     "metadata": {},
     "output_type": "execute_result"
    }
   ],
   "execution_count": 2
  },
  {
   "metadata": {
    "ExecuteTime": {
     "end_time": "2024-11-03T09:23:57.823204Z",
     "start_time": "2024-11-03T09:23:57.819947Z"
    }
   },
   "cell_type": "code",
   "source": "datetime.date.today()",
   "id": "159938ff450269e7",
   "outputs": [
    {
     "data": {
      "text/plain": [
       "datetime.date(2024, 11, 3)"
      ]
     },
     "execution_count": 3,
     "metadata": {},
     "output_type": "execute_result"
    }
   ],
   "execution_count": 3
  },
  {
   "metadata": {},
   "cell_type": "markdown",
   "source": "    # Primeri uporabe modula datetime\n",
   "id": "c003bdd932f81dd1"
  },
  {
   "metadata": {
    "ExecuteTime": {
     "end_time": "2025-03-19T09:17:42.736706Z",
     "start_time": "2025-03-19T09:17:42.732614Z"
    }
   },
   "cell_type": "code",
   "source": [
    "import datetime\n",
    "from dateutil import relativedelta\n",
    "d1 = datetime.date(2025, 3, 1)\n",
    "d2 = datetime.date(2057, 8, 1)\n",
    "diff = d2 - d1\n",
    "diff.days\n",
    "diff_r = relativedelta.relativedelta(d2, d1)\n",
    "print(diff_r.years, diff_r.months, diff_r.days)"
   ],
   "id": "316901e6352587a6",
   "outputs": [
    {
     "name": "stdout",
     "output_type": "stream",
     "text": [
      "32 5 0\n"
     ]
    }
   ],
   "execution_count": 5
  },
  {
   "metadata": {
    "ExecuteTime": {
     "end_time": "2025-03-19T09:16:58.207344Z",
     "start_time": "2025-03-19T09:16:58.205754Z"
    }
   },
   "cell_type": "code",
   "source": "",
   "id": "f0ae19aa14b9118c",
   "outputs": [],
   "execution_count": 3
  },
  {
   "metadata": {
    "ExecuteTime": {
     "end_time": "2025-04-11T06:08:41.648751Z",
     "start_time": "2025-04-11T06:08:41.645705Z"
    }
   },
   "cell_type": "code",
   "source": [
    "import re\n",
    "re.compile(r\"\\d{2}\")\n",
    "test = \"V tem stringu so 22 dvomestne 13 cifre 3434 in tudi vec\"\n",
    "m = re.findall(r\"\\D\\d{2}\\D\", test)\n",
    "for i in m:\n",
    "    print(i)"
   ],
   "id": "93549fe6f2eb2a62",
   "outputs": [
    {
     "name": "stdout",
     "output_type": "stream",
     "text": [
      " 22 \n",
      " 13 \n"
     ]
    }
   ],
   "execution_count": 4
  }
 ],
 "metadata": {
  "kernelspec": {
   "display_name": "Python 3",
   "language": "python",
   "name": "python3"
  },
  "language_info": {
   "codemirror_mode": {
    "name": "ipython",
    "version": 2
   },
   "file_extension": ".py",
   "mimetype": "text/x-python",
   "name": "python",
   "nbconvert_exporter": "python",
   "pygments_lexer": "ipython2",
   "version": "2.7.6"
  }
 },
 "nbformat": 4,
 "nbformat_minor": 5
}
